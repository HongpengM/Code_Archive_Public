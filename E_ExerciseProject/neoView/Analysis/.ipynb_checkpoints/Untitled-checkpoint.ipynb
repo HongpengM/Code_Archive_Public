{
 "cells": [
  {
   "cell_type": "code",
   "execution_count": 90,
   "metadata": {
    "autoscroll": false,
    "collapsed": false,
    "ein.hycell": false,
    "ein.tags": "worksheet-0",
    "slideshow": {
     "slide_type": "-"
    }
   },
   "outputs": [],
   "source": [
    "import pymongo\n",
    "import numpy as np\n",
    "import pandas as pd\n",
    "import h5py as h5\n",
    "import scipy.sparse as ss\n",
    "import pickle\n",
    "\n",
    "import matplotlib as mpl\n",
    "mpl.use('Agg')\n",
    "import matplotlib.pyplot as plt\n"
   ]
  },
  {
   "cell_type": "code",
   "execution_count": 5,
   "metadata": {
    "autoscroll": false,
    "collapsed": false,
    "ein.hycell": false,
    "ein.tags": "worksheet-0",
    "slideshow": {
     "slide_type": "-"
    }
   },
   "outputs": [],
   "source": [
    "client = pymongo.MongoClient('localhost', 27017)\n",
    "db = client['blockChains']\n",
    "collection = 'neotransactions'"
   ]
  },
  {
   "cell_type": "code",
   "execution_count": 13,
   "metadata": {
    "autoscroll": false,
    "collapsed": false,
    "ein.hycell": false,
    "ein.tags": "worksheet-0",
    "slideshow": {
     "slide_type": "-"
    }
   },
   "outputs": [],
   "source": [
    "data = list(db[collection].find({}))"
   ]
  },
  {
   "cell_type": "code",
   "execution_count": 123,
   "metadata": {
    "autoscroll": false,
    "collapsed": false,
    "ein.hycell": false,
    "ein.tags": "worksheet-0",
    "slideshow": {
     "slide_type": "-"
    }
   },
   "outputs": [],
   "source": [
    "rowIndex = []\n",
    "colIndex = []\n",
    "freq = []\n",
    "neo = []\n",
    "neoGas = []\n",
    "\n",
    "for d in data:\n",
    "    if d['fromAddressInt'] != d['toAddressInt']:\n",
    "        rowIndex.append(d['fromAddressInt'])\n",
    "        colIndex.append(d['toAddressInt'])\n",
    "        rowIndex.append(d['toAddressInt'])\n",
    "        colIndex.append(d['fromAddressInt'])\n",
    "        freq.append(1.0)\n",
    "        freq.append(1.0)\n",
    "        neo.append(d['transactionNeoValue'])\n",
    "        neo.append(d['transactionNeoValue'])\n",
    "        neoGas.append(d['transactionNeoGasValue'])\n",
    "        neoGas.append(d['transactionNeoGasValue'])"
   ]
  },
  {
   "cell_type": "code",
   "execution_count": 124,
   "metadata": {
    "autoscroll": false,
    "collapsed": false,
    "ein.hycell": false,
    "ein.tags": "worksheet-0",
    "slideshow": {
     "slide_type": "-"
    }
   },
   "outputs": [
    {
     "name": "stdout",
     "output_type": "stream",
     "text": [
      "[7, 8, 9, 10, 11, 12, 16, 17, 18, 19]\n",
      "[8, 7, 10, 9, 12, 11, 17, 16, 19, 18]\n",
      "[1.0, 1.0, 1.0, 1.0, 1.0, 1.0, 1.0, 1.0, 1.0, 1.0]\n",
      "[200, 200, 26, 26, 265, 265, 9966, 9966, 28, 28]\n",
      "[0, 0, 0, 0, 0, 0, 0, 0, 0, 0]\n"
     ]
    }
   ],
   "source": [
    "print(rowIndex[0:10])\n",
    "print(colIndex[0:10])\n",
    "print(freq[0:10])\n",
    "print(neo[0:10])\n",
    "print(neoGas[0:10])\n",
    "maxLen = max(max(rowIndex), max(colIndex)) + 1"
   ]
  },
  {
   "cell_type": "code",
   "execution_count": 125,
   "metadata": {
    "autoscroll": false,
    "collapsed": false,
    "ein.hycell": false,
    "ein.tags": "worksheet-0",
    "slideshow": {
     "slide_type": "-"
    }
   },
   "outputs": [],
   "source": [
    "freqMat = ss.coo_matrix((freq, (rowIndex, colIndex)), shape=[maxLen, maxLen]).tocsr().todense()\n",
    "neoMat = ss.coo_matrix((neo, (rowIndex, colIndex)), shape=[maxLen, maxLen]).tocsr().todense()\n",
    "neoGasMat = ss.coo_matrix((neoGas, (rowIndex, colIndex)), shape=[maxLen, maxLen]).tocsr().todense()"
   ]
  },
  {
   "cell_type": "code",
   "execution_count": 77,
   "metadata": {
    "autoscroll": false,
    "collapsed": false,
    "ein.hycell": false,
    "ein.tags": "worksheet-0",
    "slideshow": {
     "slide_type": "-"
    }
   },
   "outputs": [],
   "source": []
  },
  {
   "cell_type": "code",
   "execution_count": 126,
   "metadata": {
    "autoscroll": false,
    "collapsed": false,
    "ein.hycell": false,
    "ein.tags": "worksheet-0",
    "slideshow": {
     "slide_type": "-"
    }
   },
   "outputs": [
    {
     "data": {
      "text/plain": [
       "(1767, 1767)"
      ]
     },
     "execution_count": 126,
     "metadata": {},
     "output_type": "execute_result"
    }
   ],
   "source": [
    "freqMat.shape"
   ]
  },
  {
   "cell_type": "code",
   "execution_count": 133,
   "metadata": {
    "autoscroll": false,
    "collapsed": false,
    "ein.hycell": false,
    "ein.tags": "worksheet-0",
    "slideshow": {
     "slide_type": "-"
    }
   },
   "outputs": [],
   "source": [
    "freqMatDf = pd.DataFrame(freqMat)\n",
    "#freqMatDf = freqMatDf[(freqMatDf.T != 0).any()]\n",
    "#freqMatDf = freqMatDf.loc[:, (freqMatDf != 0).any(axis=0)]\n",
    "\n",
    "neoMatDf = pd.DataFrame(neoMat)\n",
    "#neoMatDf = neoMatDf[(neoMatDf.T != 0).any()]\n",
    "#neoMatDf = neoMatDf.loc[:, (neoMatDf != 0).any(axis=0)]\n",
    "\n",
    "neoGasMatDf = pd.DataFrame(neoGasMat)\n",
    "#neoGasMatDf = neoGasMatDf[(neoGasMatDf.T != 0).any()]\n",
    "#neoGasMatDf = neoGasMatDf.loc[:, (neoGasMatDf != 0).any(axis=0)]\n"
   ]
  },
  {
   "cell_type": "code",
   "execution_count": 134,
   "metadata": {
    "autoscroll": false,
    "collapsed": false,
    "ein.hycell": false,
    "ein.tags": "worksheet-0",
    "slideshow": {
     "slide_type": "-"
    }
   },
   "outputs": [
    {
     "name": "stderr",
     "output_type": "stream",
     "text": [
      "/Users/k/anaconda3/lib/python3.6/site-packages/ipykernel_launcher.py:9: RuntimeWarning: invalid value encountered in true_divide\n",
      "  if __name__ == '__main__':\n",
      "/Users/k/anaconda3/lib/python3.6/site-packages/ipykernel_launcher.py:9: RuntimeWarning: divide by zero encountered in log10\n",
      "  if __name__ == '__main__':\n"
     ]
    },
    {
     "name": "stderr",
     "output_type": "stream",
     "text": [
      "/Users/k/anaconda3/lib/python3.6/site-packages/matplotlib/figure.py:459: UserWarning: matplotlib is currently using a non-GUI backend, so cannot show the figure\n",
      "  \"matplotlib is currently using a non-GUI backend, \"\n",
      "/Users/k/anaconda3/lib/python3.6/site-packages/ipykernel_launcher.py:21: RuntimeWarning: invalid value encountered in true_divide\n",
      "/Users/k/anaconda3/lib/python3.6/site-packages/ipykernel_launcher.py:21: RuntimeWarning: divide by zero encountered in log10\n"
     ]
    },
    {
     "name": "stderr",
     "output_type": "stream",
     "text": [
      "/Users/k/anaconda3/lib/python3.6/site-packages/ipykernel_launcher.py:33: RuntimeWarning: invalid value encountered in true_divide\n",
      "/Users/k/anaconda3/lib/python3.6/site-packages/ipykernel_launcher.py:33: RuntimeWarning: divide by zero encountered in log10\n"
     ]
    }
   ],
   "source": [
    "fig = plt.figure(1, figsize=(5, 5), dpi=300, frameon=False)\n",
    "#ax = fig.add_subplot(111, aspect='equal')\n",
    "ax = plt.Axes(fig, (0,0,1,1))\n",
    "ax.set_axis_off()\n",
    "fig.add_axes(ax)\n",
    "ax.grid(False)\n",
    "ax.set_xticklabels(\"\")\n",
    "ax.set_yticklabels(\"\")\n",
    "ax.imshow(np.log10(freqMatDf.values / sum(freqMatDf.values)), cmap='hot', interpolation='nearest')\n",
    "fig.savefig('freq.png',dpi=300)\n",
    "fig.show()\n",
    "\n",
    "fig = plt.figure(1, figsize=(5, 5), dpi=300, frameon=False)\n",
    "#ax = fig.add_subplot(111, aspect='equal')\n",
    "ax = plt.Axes(fig, (0,0,1,1))\n",
    "ax.set_axis_off()\n",
    "fig.add_axes(ax)\n",
    "ax.grid(False)\n",
    "ax.set_xticklabels(\"\")\n",
    "ax.set_yticklabels(\"\")\n",
    "ax.imshow(np.log10(neoMatDf.values / sum(neoMatDf.values)), cmap='hot', interpolation='nearest')\n",
    "fig.savefig('neo.png',dpi=300)\n",
    "fig.show()\n",
    "\n",
    "fig = plt.figure(1, figsize=(5, 5), dpi=300, frameon=False)\n",
    "#ax = fig.add_subplot(111, aspect='equal')\n",
    "ax = plt.Axes(fig, (0,0,1,1))\n",
    "ax.set_axis_off()\n",
    "fig.add_axes(ax)\n",
    "ax.grid(False)\n",
    "ax.set_xticklabels(\"\")\n",
    "ax.set_yticklabels(\"\")\n",
    "ax.imshow(np.log10(neoGasMatDf.values / sum(neoGasMatDf.values)), cmap='hot', interpolation='nearest')\n",
    "fig.savefig('neoGas.png',dpi=300)\n",
    "fig.show()"
   ]
  },
  {
   "cell_type": "code",
   "execution_count": 137,
   "metadata": {
    "autoscroll": false,
    "collapsed": false,
    "ein.hycell": false,
    "ein.tags": "worksheet-0",
    "slideshow": {
     "slide_type": "-"
    }
   },
   "outputs": [],
   "source": [
    "with open('freq.pkl','wb') as f:\n",
    "    pickle.dump(freqMatDf, f,True)\n",
    "\n",
    "with open('neo.pkl','wb') as f:\n",
    "    pickle.dump(neoMatDf, f,True)\n",
    "\n",
    "with open('neoGas.pkl','wb') as f:\n",
    "    pickle.dump(neoGasMat, f,True)\n"
   ]
  },
  {
   "cell_type": "code",
   "execution_count": null,
   "metadata": {
    "autoscroll": false,
    "collapsed": false,
    "ein.hycell": false,
    "ein.tags": "worksheet-0",
    "slideshow": {
     "slide_type": "-"
    }
   },
   "outputs": [],
   "source": []
  }
 ],
 "metadata": {
  "kernelspec": {
   "argv": [
    "/Users/k/anaconda3/bin/python",
    "-m",
    "ipykernel_launcher",
    "-f",
    "{connection_file}"
   ],
   "display_name": "Python 3",
   "env": null,
   "interrupt_mode": "signal",
   "language": "python",
   "metadata": null,
   "name": "python3"
  },
  "name": "Untitled.ipynb"
 },
 "nbformat": 4,
 "nbformat_minor": 2
}
